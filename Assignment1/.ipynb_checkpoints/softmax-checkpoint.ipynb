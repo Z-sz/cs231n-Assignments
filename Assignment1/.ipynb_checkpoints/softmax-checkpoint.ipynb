{
 "cells": [
  {
   "cell_type": "markdown",
   "metadata": {},
   "source": [
    "# Softmax exercise\n",
    "\n",
    "*Complete and hand in this completed worksheet (including its outputs and any supporting code outside of the worksheet) with your assignment submission. For more details see the [assignments page](http://vision.stanford.edu/teaching/cs231n/assignments.html) on the course website.*\n",
    "\n",
    "This exercise is analogous to the SVM exercise. You will:\n",
    "\n",
    "- implement a fully-vectorized **loss function** for the Softmax classifier\n",
    "- implement the fully-vectorized expression for its **analytic gradient**\n",
    "- **check your implementation** with numerical gradient\n",
    "- use a validation set to **tune the learning rate and regularization** strength\n",
    "- **optimize** the loss function with **SGD**\n",
    "- **visualize** the final learned weights\n"
   ]
  },
  {
   "cell_type": "code",
   "execution_count": 1,
   "metadata": {
    "collapsed": true
   },
   "outputs": [],
   "source": [
    "import random\n",
    "import numpy as np\n",
    "from cs231n.data_utils import load_CIFAR10\n",
    "import matplotlib.pyplot as plt\n",
    "\n",
    "from __future__ import print_function\n",
    "\n",
    "%matplotlib inline\n",
    "plt.rcParams['figure.figsize'] = (10.0, 8.0) # set default size of plots\n",
    "plt.rcParams['image.interpolation'] = 'nearest'\n",
    "plt.rcParams['image.cmap'] = 'gray'\n",
    "\n",
    "# for auto-reloading extenrnal modules\n",
    "# see http://stackoverflow.com/questions/1907993/autoreload-of-modules-in-ipython\n",
    "%load_ext autoreload\n",
    "%autoreload 2"
   ]
  },
  {
   "cell_type": "code",
   "execution_count": 2,
   "metadata": {},
   "outputs": [
    {
     "name": "stdout",
     "output_type": "stream",
     "text": [
      "Train data shape:  (49000, 3073)\n",
      "Train labels shape:  (49000,)\n",
      "Validation data shape:  (1000, 3073)\n",
      "Validation labels shape:  (1000,)\n",
      "Test data shape:  (1000, 3073)\n",
      "Test labels shape:  (1000,)\n",
      "dev data shape:  (500, 3073)\n",
      "dev labels shape:  (500,)\n"
     ]
    }
   ],
   "source": [
    "def get_CIFAR10_data(num_training=49000, num_validation=1000, num_test=1000, num_dev=500):\n",
    "    \"\"\"\n",
    "    Load the CIFAR-10 dataset from disk and perform preprocessing to prepare\n",
    "    it for the linear classifier. These are the same steps as we used for the\n",
    "    SVM, but condensed to a single function.  \n",
    "    \"\"\"\n",
    "    # Load the raw CIFAR-10 data\n",
    "    cifar10_dir = 'cs231n/datasets/cifar-10-batches-py'\n",
    "    X_train, y_train, X_test, y_test = load_CIFAR10(cifar10_dir)\n",
    "    \n",
    "    # subsample the data\n",
    "    mask = list(range(num_training, num_training + num_validation))\n",
    "    X_val = X_train[mask]\n",
    "    y_val = y_train[mask]\n",
    "    mask = list(range(num_training))\n",
    "    X_train = X_train[mask]\n",
    "    y_train = y_train[mask]\n",
    "    mask = list(range(num_test))\n",
    "    X_test = X_test[mask]\n",
    "    y_test = y_test[mask]\n",
    "    mask = np.random.choice(num_training, num_dev, replace=False)\n",
    "    X_dev = X_train[mask]\n",
    "    y_dev = y_train[mask]\n",
    "    \n",
    "    # Preprocessing: reshape the image data into rows\n",
    "    X_train = np.reshape(X_train, (X_train.shape[0], -1))\n",
    "    X_val = np.reshape(X_val, (X_val.shape[0], -1))\n",
    "    X_test = np.reshape(X_test, (X_test.shape[0], -1))\n",
    "    X_dev = np.reshape(X_dev, (X_dev.shape[0], -1))\n",
    "    \n",
    "    # Normalize the data: subtract the mean image\n",
    "    mean_image = np.mean(X_train, axis = 0)\n",
    "    X_train -= mean_image\n",
    "    X_val -= mean_image\n",
    "    X_test -= mean_image\n",
    "    X_dev -= mean_image\n",
    "    \n",
    "    # add bias dimension and transform into columns\n",
    "    X_train = np.hstack([X_train, np.ones((X_train.shape[0], 1))])\n",
    "    X_val = np.hstack([X_val, np.ones((X_val.shape[0], 1))])\n",
    "    X_test = np.hstack([X_test, np.ones((X_test.shape[0], 1))])\n",
    "    X_dev = np.hstack([X_dev, np.ones((X_dev.shape[0], 1))])\n",
    "    \n",
    "    return X_train, y_train, X_val, y_val, X_test, y_test, X_dev, y_dev\n",
    "\n",
    "\n",
    "# Invoke the above function to get our data.\n",
    "X_train, y_train, X_val, y_val, X_test, y_test, X_dev, y_dev = get_CIFAR10_data()\n",
    "print('Train data shape: ', X_train.shape)\n",
    "print('Train labels shape: ', y_train.shape)\n",
    "print('Validation data shape: ', X_val.shape)\n",
    "print('Validation labels shape: ', y_val.shape)\n",
    "print('Test data shape: ', X_test.shape)\n",
    "print('Test labels shape: ', y_test.shape)\n",
    "print('dev data shape: ', X_dev.shape)\n",
    "print('dev labels shape: ', y_dev.shape)"
   ]
  },
  {
   "cell_type": "markdown",
   "metadata": {},
   "source": [
    "## Softmax Classifier\n",
    "\n",
    "Your code for this section will all be written inside **cs231n/classifiers/softmax.py**. \n"
   ]
  },
  {
   "cell_type": "code",
   "execution_count": 3,
   "metadata": {},
   "outputs": [
    {
     "name": "stdout",
     "output_type": "stream",
     "text": [
      "loss: 2.375438\n",
      "sanity check: 2.302585\n"
     ]
    }
   ],
   "source": [
    "# First implement the naive softmax loss function with nested loops.\n",
    "# Open the file cs231n/classifiers/softmax.py and implement the\n",
    "# softmax_loss_naive function.\n",
    "\n",
    "from cs231n.classifiers.softmax import softmax_loss_naive\n",
    "import time\n",
    "\n",
    "# Generate a random softmax weight matrix and use it to compute the loss.\n",
    "W = np.random.randn(3073, 10) * 0.0001\n",
    "loss, grad = softmax_loss_naive(W, X_dev, y_dev, 0.0)\n",
    "\n",
    "# As a rough sanity check, our loss should be something close to -log(0.1).\n",
    "print('loss: %f' % loss)\n",
    "print('sanity check: %f' % (-np.log(0.1)))"
   ]
  },
  {
   "cell_type": "markdown",
   "metadata": {},
   "source": [
    "## Inline Question 1:\n",
    "Why do we expect our loss to be close to -log(0.1)? Explain briefly.**\n",
    "\n",
    "**Your answer:** *Since all of W's entries was initialized by a very small value. The matrix we obtained by np.dot(W, X) can be thought of as a zeros matrix. Therefore, the probabilty matrix we obtained by applying softmax should be a matrix that is filled with 1/C. For each input image, we get a loss of 1/C. $loss = -\\dfrac{1}{N}N*log(\\dfrac{1}{C})=-log(\\dfrac{1}{C})$*\n"
   ]
  },
  {
   "cell_type": "code",
   "execution_count": 4,
   "metadata": {},
   "outputs": [
    {
     "name": "stdout",
     "output_type": "stream",
     "text": [
      "numerical: 1.561649 analytic: 1.561649, relative error: 2.313713e-08\n",
      "numerical: 3.581945 analytic: 3.581945, relative error: 1.098713e-08\n",
      "numerical: -2.976987 analytic: -2.976987, relative error: 1.985448e-08\n",
      "numerical: 1.862488 analytic: 1.862488, relative error: 9.307992e-09\n",
      "numerical: 2.291856 analytic: 2.291856, relative error: 2.094349e-08\n",
      "numerical: -2.056303 analytic: -2.056303, relative error: 3.671388e-09\n",
      "numerical: -2.266317 analytic: -2.266317, relative error: 2.989092e-09\n",
      "numerical: -1.598256 analytic: -1.598256, relative error: 2.309671e-08\n",
      "numerical: -1.570023 analytic: -1.570023, relative error: 1.123883e-08\n",
      "numerical: 1.198870 analytic: 1.198870, relative error: 1.607368e-08\n",
      "numerical: 0.375966 analytic: 0.375966, relative error: 4.291816e-09\n",
      "numerical: 0.132979 analytic: 0.132979, relative error: 3.420269e-07\n",
      "numerical: -0.584269 analytic: -0.584269, relative error: 6.881761e-08\n",
      "numerical: 2.101760 analytic: 2.101760, relative error: 9.115924e-09\n",
      "numerical: -2.745828 analytic: -2.745828, relative error: 6.515842e-09\n",
      "numerical: -1.263532 analytic: -1.263532, relative error: 1.311077e-08\n",
      "numerical: -3.421066 analytic: -3.421066, relative error: 9.197552e-09\n",
      "numerical: 3.570689 analytic: 3.570689, relative error: 9.354690e-09\n",
      "numerical: 1.168272 analytic: 1.168272, relative error: 7.102748e-09\n",
      "numerical: 4.464807 analytic: 4.464807, relative error: 9.301725e-09\n"
     ]
    }
   ],
   "source": [
    "# Complete the implementation of softmax_loss_naive and implement a (naive)\n",
    "# version of the gradient that uses nested loops.\n",
    "loss, grad = softmax_loss_naive(W, X_dev, y_dev, 0.0)\n",
    "\n",
    "# As we did for the SVM, use numeric gradient checking as a debugging tool.\n",
    "# The numeric gradient should be close to the analytic gradient.\n",
    "from cs231n.gradient_check import grad_check_sparse\n",
    "f = lambda w: softmax_loss_naive(w, X_dev, y_dev, 0.0)[0]\n",
    "grad_numerical = grad_check_sparse(f, W, grad, 10)\n",
    "\n",
    "# similar to SVM case, do another gradient check with regularization\n",
    "loss, grad = softmax_loss_naive(W, X_dev, y_dev, 5e1)\n",
    "f = lambda w: softmax_loss_naive(w, X_dev, y_dev, 5e1)[0]\n",
    "grad_numerical = grad_check_sparse(f, W, grad, 10)"
   ]
  },
  {
   "cell_type": "code",
   "execution_count": 5,
   "metadata": {},
   "outputs": [
    {
     "name": "stdout",
     "output_type": "stream",
     "text": [
      "naive loss: 2.375438e+00 computed in 0.014001s\n",
      "vectorized loss: 2.375438e+00 computed in 0.006001s\n",
      "Loss difference: 0.000000\n",
      "Gradient difference: 0.000000\n"
     ]
    }
   ],
   "source": [
    "# Now that we have a naive implementation of the softmax loss function and its gradient,\n",
    "# implement a vectorized version in softmax_loss_vectorized.\n",
    "# The two versions should compute the same results, but the vectorized version should be\n",
    "# much faster.\n",
    "tic = time.time()\n",
    "loss_naive, grad_naive = softmax_loss_naive(W, X_dev, y_dev, 0.000005)\n",
    "toc = time.time()\n",
    "print('naive loss: %e computed in %fs' % (loss_naive, toc - tic))\n",
    "\n",
    "from cs231n.classifiers.softmax import softmax_loss_vectorized\n",
    "tic = time.time()\n",
    "loss_vectorized, grad_vectorized = softmax_loss_vectorized(W, X_dev, y_dev, 0.000005)\n",
    "toc = time.time()\n",
    "print('vectorized loss: %e computed in %fs' % (loss_vectorized, toc - tic))\n",
    "\n",
    "# As we did for the SVM, we use the Frobenius norm to compare the two versions\n",
    "# of the gradient.\n",
    "grad_difference = np.linalg.norm(grad_naive - grad_vectorized, ord='fro')\n",
    "print('Loss difference: %f' % np.abs(loss_naive - loss_vectorized))\n",
    "print('Gradient difference: %f' % grad_difference)"
   ]
  },
  {
   "cell_type": "code",
   "execution_count": 6,
   "metadata": {},
   "outputs": [
    {
     "name": "stdout",
     "output_type": "stream",
     "text": [
      "iteration 0 / 1500: loss 389.061417\n",
      "iteration 100 / 1500: loss 235.181381\n",
      "iteration 200 / 1500: loss 142.949247\n",
      "iteration 300 / 1500: loss 87.257100\n",
      "iteration 400 / 1500: loss 53.640622\n",
      "iteration 500 / 1500: loss 33.238883\n",
      "iteration 600 / 1500: loss 20.889852\n",
      "iteration 700 / 1500: loss 13.446029\n",
      "iteration 800 / 1500: loss 8.882536\n",
      "iteration 900 / 1500: loss 6.189383\n",
      "iteration 1000 / 1500: loss 4.529073\n",
      "iteration 1100 / 1500: loss 3.549447\n",
      "iteration 1200 / 1500: loss 2.965148\n",
      "iteration 1300 / 1500: loss 2.581263\n",
      "iteration 1400 / 1500: loss 2.256457\n",
      "iteration 0 / 1500: loss 770.848338\n",
      "iteration 100 / 1500: loss 282.915779\n",
      "iteration 200 / 1500: loss 104.944839\n",
      "iteration 300 / 1500: loss 39.786917\n",
      "iteration 400 / 1500: loss 15.854952\n",
      "iteration 500 / 1500: loss 7.168141\n",
      "iteration 600 / 1500: loss 3.890852\n",
      "iteration 700 / 1500: loss 2.759480\n",
      "iteration 800 / 1500: loss 2.346847\n",
      "iteration 900 / 1500: loss 2.154548\n",
      "iteration 1000 / 1500: loss 2.055069\n",
      "iteration 1100 / 1500: loss 2.114973\n",
      "iteration 1200 / 1500: loss 2.079295\n",
      "iteration 1300 / 1500: loss 2.074059\n",
      "iteration 1400 / 1500: loss 2.140080\n",
      "iteration 0 / 1500: loss 391.020371\n",
      "iteration 100 / 1500: loss 32.915220\n",
      "iteration 200 / 1500: loss 4.421619\n",
      "iteration 300 / 1500: loss 2.212275\n",
      "iteration 400 / 1500: loss 2.054197\n",
      "iteration 500 / 1500: loss 2.041198\n",
      "iteration 600 / 1500: loss 2.073183\n",
      "iteration 700 / 1500: loss 1.997181\n",
      "iteration 800 / 1500: loss 2.033423\n",
      "iteration 900 / 1500: loss 2.008093\n",
      "iteration 1000 / 1500: loss 1.980361\n",
      "iteration 1100 / 1500: loss 2.088736\n",
      "iteration 1200 / 1500: loss 1.964394\n",
      "iteration 1300 / 1500: loss 2.011308\n",
      "iteration 1400 / 1500: loss 2.000874\n",
      "iteration 0 / 1500: loss 781.312388\n",
      "iteration 100 / 1500: loss 6.908087\n",
      "iteration 200 / 1500: loss 2.084882\n",
      "iteration 300 / 1500: loss 2.077419\n",
      "iteration 400 / 1500: loss 2.069602\n",
      "iteration 500 / 1500: loss 2.060888\n",
      "iteration 600 / 1500: loss 2.036778\n",
      "iteration 700 / 1500: loss 2.055899\n",
      "iteration 800 / 1500: loss 2.099062\n",
      "iteration 900 / 1500: loss 2.091135\n",
      "iteration 1000 / 1500: loss 2.157723\n",
      "iteration 1100 / 1500: loss 2.074404\n",
      "iteration 1200 / 1500: loss 2.082010\n",
      "iteration 1300 / 1500: loss 2.065992\n",
      "iteration 1400 / 1500: loss 2.034876\n",
      "lr 1.000000e-07 reg 2.500000e+04 train accuracy: 0.350469 val accuracy: 0.369000\n",
      "lr 1.000000e-07 reg 5.000000e+04 train accuracy: 0.330898 val accuracy: 0.341000\n",
      "lr 5.000000e-07 reg 2.500000e+04 train accuracy: 0.349122 val accuracy: 0.362000\n",
      "lr 5.000000e-07 reg 5.000000e+04 train accuracy: 0.323959 val accuracy: 0.349000\n",
      "best validation accuracy achieved during cross-validation: 0.369000\n"
     ]
    }
   ],
   "source": [
    "# Use the validation set to tune hyperparameters (regularization strength and\n",
    "# learning rate). You should experiment with different ranges for the learning\n",
    "# rates and regularization strengths; if you are careful you should be able to\n",
    "# get a classification accuracy of over 0.35 on the validation set.\n",
    "from cs231n.classifiers import Softmax\n",
    "results = {}\n",
    "best_val = -1\n",
    "best_softmax = None\n",
    "learning_rates = [1e-7, 5e-7]\n",
    "regularization_strengths = [2.5e4, 5e4]\n",
    "\n",
    "################################################################################\n",
    "# TODO:                                                                        #\n",
    "# Use the validation set to set the learning rate and regularization strength. #\n",
    "# This should be identical to the validation that you did for the SVM; save    #\n",
    "# the best trained softmax classifer in best_softmax.                          #\n",
    "################################################################################\n",
    "for i in range(2):\n",
    "    for j in range(2):\n",
    "        learning_rate = learning_rates[i]\n",
    "        regularization = regularization_strengths[j] \n",
    "        softmax_test = Softmax()\n",
    "        loss_hist = softmax_test.train(X_train, y_train, learning_rate = learning_rate, reg = regularization,\n",
    "                          num_iters = 1500, verbose = True)\n",
    "        y_train_pred = softmax_test.predict(X_train)\n",
    "        y_val_pred = softmax_test.predict(X_val)\n",
    "        train_accuracy = np.mean(y_train == y_train_pred)\n",
    "        val_accuracy = np.mean(y_val == y_val_pred)\n",
    "        results[(learning_rate, regularization)] = (train_accuracy, val_accuracy)\n",
    "        if(val_accuracy > best_val):\n",
    "            best_val = val_accuracy\n",
    "            best_softmax = softmax_test\n",
    "\n",
    "################################################################################\n",
    "#                              END OF YOUR CODE                                #\n",
    "################################################################################\n",
    "    \n",
    "# Print out results.\n",
    "for lr, reg in sorted(results):\n",
    "    train_accuracy, val_accuracy = results[(lr, reg)]\n",
    "    print('lr %e reg %e train accuracy: %f val accuracy: %f' % (\n",
    "                lr, reg, train_accuracy, val_accuracy))\n",
    "    \n",
    "print('best validation accuracy achieved during cross-validation: %f' % best_val)"
   ]
  },
  {
   "cell_type": "code",
   "execution_count": 7,
   "metadata": {},
   "outputs": [
    {
     "name": "stdout",
     "output_type": "stream",
     "text": [
      "softmax on raw pixels final test set accuracy: 0.352000\n"
     ]
    }
   ],
   "source": [
    "# evaluate on test set\n",
    "# Evaluate the best softmax on test set\n",
    "y_test_pred = best_softmax.predict(X_test)\n",
    "test_accuracy = np.mean(y_test == y_test_pred)\n",
    "print('softmax on raw pixels final test set accuracy: %f' % (test_accuracy, ))"
   ]
  },
  {
   "cell_type": "code",
   "execution_count": 8,
   "metadata": {},
   "outputs": [
    {
     "data": {
      "image/png": "[encoded data removed]",
      "text/plain": [
       "<matplotlib.figure.Figure at 0x46e4ac8>"
      ]
     },
     "metadata": {},
     "output_type": "display_data"
    }
   ],
   "source": [
    "# Visualize the learned weights for each class\n",
    "w = best_softmax.W[:-1,:] # strip out the bias\n",
    "w = w.reshape(32, 32, 3, 10)\n",
    "\n",
    "w_min, w_max = np.min(w), np.max(w)\n",
    "\n",
    "classes = ['plane', 'car', 'bird', 'cat', 'deer', 'dog', 'frog', 'horse', 'ship', 'truck']\n",
    "for i in range(10):\n",
    "    plt.subplot(2, 5, i + 1)\n",
    "    \n",
    "    # Rescale the weights to be between 0 and 255\n",
    "    wimg = 255.0 * (w[:, :, :, i].squeeze() - w_min) / (w_max - w_min)\n",
    "    plt.imshow(wimg.astype('uint8'))\n",
    "    plt.axis('off')\n",
    "    plt.title(classes[i])"
   ]
  },
  {
   "cell_type": "code",
   "execution_count": null,
   "metadata": {
    "collapsed": true
   },
   "outputs": [],
   "source": []
  }
 ],
 "metadata": {
  "kernelspec": {
   "display_name": "tensorflow-GPU(py3)",
   "language": "python",
   "name": "tensorflow"
  },
  "language_info": {
   "codemirror_mode": {
    "name": "ipython",
    "version": 3
   },
   "file_extension": ".py",
   "mimetype": "text/x-python",
   "name": "python",
   "nbconvert_exporter": "python",
   "pygments_lexer": "ipython3",
   "version": "3.5.4"
  }
 },
 "nbformat": 4,
 "nbformat_minor": 1
}
